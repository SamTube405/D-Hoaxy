{
 "cells": [
  {
   "cell_type": "code",
   "execution_count": 5,
   "metadata": {},
   "outputs": [],
   "source": [
    "import pandas as pd\n",
    "from detector import Detector\n",
    "import networkx as nx\n",
    "\n",
    "import seaborn as sns\n",
    "import matplotlib.pyplot as plt"
   ]
  },
  {
   "cell_type": "code",
   "execution_count": 246,
   "metadata": {},
   "outputs": [],
   "source": [
    "sns.set(font_scale=2,style='whitegrid')"
   ]
  },
  {
   "cell_type": "code",
   "execution_count": 190,
   "metadata": {},
   "outputs": [],
   "source": [
    "from lib_job_thread import *\n",
    "pool=ThreadPool(1024)"
   ]
  },
  {
   "cell_type": "code",
   "execution_count": null,
   "metadata": {},
   "outputs": [],
   "source": [
    "##corpus=pd.read_csv(\"../../../../new_corpus/hoaxy.100k.csv\",header=0)"
   ]
  },
  {
   "cell_type": "code",
   "execution_count": null,
   "metadata": {},
   "outputs": [],
   "source": [
    "##corpus.dropna(inplace=True)"
   ]
  },
  {
   "cell_type": "code",
   "execution_count": null,
   "metadata": {},
   "outputs": [],
   "source": [
    "##corpus.shape"
   ]
  },
  {
   "cell_type": "code",
   "execution_count": null,
   "metadata": {},
   "outputs": [],
   "source": [
    "##corpus['group_id']=corpus['group_id'].astype(int)"
   ]
  },
  {
   "cell_type": "code",
   "execution_count": null,
   "metadata": {},
   "outputs": [],
   "source": [
    "##corpus.dtypes"
   ]
  },
  {
   "cell_type": "code",
   "execution_count": null,
   "metadata": {},
   "outputs": [],
   "source": [
    "##corpus.to_pickle(\"./hoax/corpus_100k.pkl.gz\")"
   ]
  },
  {
   "cell_type": "code",
   "execution_count": 129,
   "metadata": {},
   "outputs": [],
   "source": [
    "corpus=pd.read_pickle(\"./hoax/corpus_100k.pkl.gz\")"
   ]
  },
  {
   "cell_type": "code",
   "execution_count": 130,
   "metadata": {},
   "outputs": [
    {
     "data": {
      "text/plain": [
       "(97822, 6)"
      ]
     },
     "execution_count": 130,
     "metadata": {},
     "output_type": "execute_result"
    }
   ],
   "source": [
    "corpus.shape"
   ]
  },
  {
   "cell_type": "code",
   "execution_count": 131,
   "metadata": {},
   "outputs": [],
   "source": [
    "def clean_URL(URL):\n",
    "    nURL=URL.split(\"?\")[0]\n",
    "    if not nURL.endswith(\"/\"):\n",
    "        nURL+=\"/\"\n",
    "        \n",
    "    nURL=nURL.replace(\"https://\",\"\")\n",
    "    nURL=nURL.replace(\"http://\",\"\")\n",
    "    \n",
    "    return nURL"
   ]
  },
  {
   "cell_type": "code",
   "execution_count": 132,
   "metadata": {},
   "outputs": [],
   "source": [
    "corpus['canonical_url_updated']=corpus['canonical_url'].apply(clean_URL)"
   ]
  },
  {
   "cell_type": "code",
   "execution_count": 133,
   "metadata": {},
   "outputs": [],
   "source": [
    "corpus_updated=corpus.groupby('canonical_url_updated').first().reset_index()"
   ]
  },
  {
   "cell_type": "code",
   "execution_count": 134,
   "metadata": {},
   "outputs": [
    {
     "data": {
      "text/plain": [
       "(83354, 7)"
      ]
     },
     "execution_count": 134,
     "metadata": {},
     "output_type": "execute_result"
    }
   ],
   "source": [
    "corpus_updated.shape"
   ]
  },
  {
   "cell_type": "code",
   "execution_count": 290,
   "metadata": {},
   "outputs": [],
   "source": [
    "##corpus_updated.head()"
   ]
  },
  {
   "cell_type": "code",
   "execution_count": 359,
   "metadata": {},
   "outputs": [
    {
     "data": {
      "text/plain": [
       "array([['yournewswire.com/hillary-clinton-pedophile-ring-state-department/',\n",
       "        2283937, 363276,\n",
       "        'https://yournewswire.com/hillary-clinton-pedophile-ring-state-department/?fbclid=IwAR2wmHtPA6JcJQCORrh8tpSPmR950seZg4mNrdbmdkHoETFPvW6tNhQoK8s',\n",
       "        'NBC News: Hillary Clinton \\xe2\\x80\\x98Covered Up\\xe2\\x80\\x99 Pedophile Ring At State Department',\n",
       "        '   An NBC news report claims\\xc2\\xa0that Hillary Clinton, while secretary of state, shut down an investigation into an elite pedophile ring in\\xc2\\xa0State Department ranks\\xc2\\xa0in order to avoid scandal and protect the careers of high ranking officials and an\\xc2\\xa0ambassador.\\xc2\\xa0The NBC investigation\\xc2\\xa0was\\xc2\\xa0broadcast at a time\\xc2\\xa0when they were a real news organization rather than a branch of the Democratic Party\\xe2\\x80\\x99s PR department, and provided internal State Department memos to back up claims of a massive Hillary Clinton elite pedophile ring\\xc2\\xa0cover-up. \\xe2\\x80\\x9cSerious allegations concerning the State Department,\\xe2\\x80\\x9d the NBC anchor announced, before launching into the disturbing\\xc2\\xa0details that mainstream media would be unable to report on in 2017.\\xe2\\x80\\x9cAccording to internal State Department memos the agency might have called off or intervened into investigations into possibly illegal, inappropriate behavior within it\\xe2\\x80\\x99s ranks allegedly to protect jobs and avoid scandals. \\xe2\\x80\\x9cThis concerns a time when Hillary Clinton was secretary of state.\\xe2\\x80\\x9d\\xe2\\x80\\x9cThere is an old saying in Washington that the cover-up is worse than the crime. But in this case both parts of it are disturbing,\\xe2\\x80\\x9d Chuck Todd continued. \\xe2\\x80\\x9cAllegations of prostitution and pedophilia, and allegations that those crimes were somehow covered up or not looked into. So the State Department this morning is having to respond to those claims, and those investigations involve misconduct by State Department officials, including an Ambassador and security agents attached to then secretary of state, Hillary Clinton. \\xe2\\x80\\x9cThe allegations are that these investigations were whitewashed, quashed altogether, and that those orders came from high up.\\xe2\\x80\\x9d\\xe2\\x80\\x9cNBC has obtained documents relating to ongoing investigations into some disturbing allegations involving State Department personnel and at least one ambassador. A State Department memo says, quote, \\xe2\\x80\\x9cthe Ambassador routinely ditched his protective security detail in order to solicit sexual favors from both prostitutes and minor children.\\xc2\\xa0\\xe2\\x80\\x9cThe memo also says a top State Department official directed State Department investigators to \\xe2\\x80\\x9ccease the investigation\\xe2\\x80\\x9d into the ambassador\\xe2\\x80\\x99s conduct.\\xe2\\x80\\x9d It\\xe2\\x80\\x99s just one of what another document describes as \\xe2\\x80\\x9cseveral examples of undue influence\\xe2\\x80\\x9d from top State Department officials.\\xe2\\x80\\x9dElite pedophile ringIn contrast to Clinton\\xe2\\x80\\x99s cover-up, President Trump has announced\\xc2\\xa0a federal investigation into the elite pedophile scandal involving human trafficking earlier this month and promised to help put an end to the \\xe2\\x80\\x9chorrific, really horrific crimes taking place.\\xe2\\x80\\x9dThe president held\\xc2\\xa0a short, dramatic press conference after meeting with human trafficking experts to announce that he will direct \\xe2\\x80\\x9cthe Department of Justice, the Department of Homeland Security and other federal agencies\\xe2\\x80\\x9d to devote more resources and personnel to the investigation.Appearing at the press conference for less than two minutes, President Trump said that the issue has been on the radar of federal government \\xe2\\x80\\x9cfor some time\\xe2\\x80\\x9d but since taking office in January the investigation has become \\xe2\\x80\\x9cmuch more focused.\\xe2\\x80\\x9d\\xe2\\x80\\x9cIt has been much more focused over the last four weeks, I can tell you that.\\xe2\\x80\\x9d Baxter Dmitry is a writer at Your News Wire. He covers politics, business and entertainment. Speaking truth to power since he learned to talk, Baxter has travelled in over 80 countries and won arguments in every single one. Live without fear.Email: baxter@yournewswire.comFollow: @baxter_dmitry    ',\n",
       "        '2018-10-31 17:46:48.814853']], dtype=object)"
      ]
     },
     "execution_count": 359,
     "metadata": {},
     "output_type": "execute_result"
    }
   ],
   "source": [
    "corpus_updated[corpus_updated['canonical_url_updated']=='yournewswire.com/hillary-clinton-pedophile-ring-state-department/'].values"
   ]
  },
  {
   "cell_type": "code",
   "execution_count": 361,
   "metadata": {},
   "outputs": [
    {
     "data": {
      "text/plain": [
       "array([['yournewswire.com/hillary-clinton-pedophile-ring-state-department/amp/',\n",
       "        2270370, 363645,\n",
       "        'https://yournewswire.com/hillary-clinton-pedophile-ring-state-department/amp/?__twitter_impression=true&fbclid=IwAR3qH_hsdjYs-PEmlErJbXzUknu-_JlkjKpZCHHMnrB0UJXXQuZdTrZ5w6g',\n",
       "        'NBC News: Hillary Clinton \\xe2\\x80\\x98Covered Up\\xe2\\x80\\x99 Pedophile Ring At State Dept.',\n",
       "        ' An NBC news report claims\\xc2\\xa0that Hillary Clinton, while secretary of state, shut down an investigation into an elite pedophile ring in\\xc2\\xa0State Department ranks\\xc2\\xa0in order to avoid scandal and protect the careers of high ranking officials and an\\xc2\\xa0ambassador.\\xc2\\xa0The NBC investigation\\xc2\\xa0was\\xc2\\xa0broadcast at a time\\xc2\\xa0when they were a real news organization rather than a branch of the Democratic Party\\xe2\\x80\\x99s PR department, and provided internal State Department memos to back up claims of a massive Hillary Clinton elite pedophile ring\\xc2\\xa0cover-up.\\xe2\\x80\\x9cSerious allegations concerning the State Department,\\xe2\\x80\\x9d the NBC anchor announced, before launching into the disturbing\\xc2\\xa0details that mainstream media would be unable to report on in 2017.\\xe2\\x80\\x9cAccording to internal State Department memos the agency might have called off or intervened into investigations into possibly illegal, inappropriate behavior within it\\xe2\\x80\\x99s ranks allegedly to protect jobs and avoid scandals.\\xe2\\x80\\x9cThis concerns a time when Hillary Clinton was secretary of state.\\xe2\\x80\\x9d\\xe2\\x80\\x9cThere is an old saying in Washington that the cover-up is worse than the crime. But in this case both parts of it are disturbing,\\xe2\\x80\\x9d Chuck Todd continued.\\xe2\\x80\\x9cAllegations of prostitution and pedophilia, and allegations that those crimes were somehow covered up or not looked into. So the State Department this morning is having to respond to those claims, and those investigations involve misconduct by State Department officials, including an Ambassador and security agents attached to then secretary of state, Hillary Clinton. \\xe2\\x80\\x9cThe allegations are that these investigations were whitewashed, quashed altogether, and that those orders came from high up.\\xe2\\x80\\x9d\\xe2\\x80\\x9cNBC has obtained documents relating to ongoing investigations into some disturbing allegations involving State Department personnel and at least one ambassador. A State Department memo says, quote, \\xe2\\x80\\x9cthe Ambassador routinely ditched his protective security detail in order to solicit sexual favors from both prostitutes and minor children.\\xc2\\xa0\\xe2\\x80\\x9cThe memo also says a top State Department official directed State Department investigators to \\xe2\\x80\\x9ccease the investigation\\xe2\\x80\\x9d into the ambassador\\xe2\\x80\\x99s conduct.\\xe2\\x80\\x9d It\\xe2\\x80\\x99s just one of what another document describes as \\xe2\\x80\\x9cseveral examples of undue influence\\xe2\\x80\\x9d from top State Department officials.\\xe2\\x80\\x9dElite pedophile ringIn contrast to Clinton\\xe2\\x80\\x99s cover-up, President Trump has announced\\xc2\\xa0a federal investigation into the elite pedophile scandal involving human trafficking earlier this month and promised to help put an end to the \\xe2\\x80\\x9chorrific, really horrific crimes taking place.\\xe2\\x80\\x9dThe president held\\xc2\\xa0a short, dramatic press conference after meeting with human trafficking experts to announce that he will direct \\xe2\\x80\\x9cthe Department of Justice, the Department of Homeland Security and other federal agencies\\xe2\\x80\\x9d to devote more resources and personnel to the investigation.Appearing at the press conference for less than two minutes, President Trump said that the issue has been on the radar of federal government \\xe2\\x80\\x9cfor some time\\xe2\\x80\\x9d but since taking office in January the investigation has become \\xe2\\x80\\x9cmuch more focused.\\xe2\\x80\\x9d\\xe2\\x80\\x9cIt has been much more focused over the last four weeks, I can tell you that.\\xe2\\x80\\x9d\\t',\n",
       "        '2018-10-23 11:44:56.575003']], dtype=object)"
      ]
     },
     "execution_count": 361,
     "metadata": {},
     "output_type": "execute_result"
    }
   ],
   "source": [
    "corpus_updated[corpus_updated['id']==2270370].values"
   ]
  },
  {
   "cell_type": "code",
   "execution_count": 137,
   "metadata": {},
   "outputs": [],
   "source": [
    "doc_ids=corpus_updated[['id']].drop_duplicates()"
   ]
  },
  {
   "cell_type": "code",
   "execution_count": 138,
   "metadata": {},
   "outputs": [],
   "source": [
    "doc_ids['id']=doc_ids['id'].astype(str)"
   ]
  },
  {
   "cell_type": "code",
   "execution_count": null,
   "metadata": {},
   "outputs": [],
   "source": [
    "# def _write(row):\n",
    "#     doc_id=row['id']\n",
    "#     content=str(row['content'])\n",
    "#     ##print(doc_id)\n",
    "#     ##print(content)\n",
    "#     with open(\"./hoax/100k/doc_%d.txt\"%doc_id,\"w\") as wf:\n",
    "#         wf.write(content)"
   ]
  },
  {
   "cell_type": "code",
   "execution_count": null,
   "metadata": {},
   "outputs": [],
   "source": [
    "# D=corpus.apply(_write,axis=1)"
   ]
  },
  {
   "cell_type": "code",
   "execution_count": null,
   "metadata": {},
   "outputs": [],
   "source": [
    "# # run the program\n",
    "# detector = Detector('./hoax/100k')"
   ]
  },
  {
   "cell_type": "code",
   "execution_count": null,
   "metadata": {},
   "outputs": [],
   "source": [
    "# print \"Checking for duplicates using NDD...\"\n",
    "# duplicates = detector.check_for_duplicates()"
   ]
  },
  {
   "cell_type": "code",
   "execution_count": null,
   "metadata": {},
   "outputs": [],
   "source": [
    "##dupDF=pd.DataFrame(duplicates,columns=[\"doc1\",\"doc2\",\"score\"])"
   ]
  },
  {
   "cell_type": "code",
   "execution_count": null,
   "metadata": {},
   "outputs": [],
   "source": [
    "# def _get_id(doc_id):\n",
    "#     d_id=doc_id.split(\".\")[0].split(\"_\")[-1]\n",
    "#     return d_id"
   ]
  },
  {
   "cell_type": "code",
   "execution_count": null,
   "metadata": {},
   "outputs": [],
   "source": [
    "##dupDF['id1']=dupDF['doc1'].apply(_get_id)"
   ]
  },
  {
   "cell_type": "code",
   "execution_count": null,
   "metadata": {},
   "outputs": [],
   "source": [
    "##dupDF['id2']=dupDF['doc2'].apply(_get_id)"
   ]
  },
  {
   "cell_type": "code",
   "execution_count": null,
   "metadata": {},
   "outputs": [],
   "source": [
    "##dupDF.to_pickle(\"./hoax/duplicates_100k.pkl.gz\")"
   ]
  },
  {
   "cell_type": "code",
   "execution_count": 327,
   "metadata": {},
   "outputs": [],
   "source": [
    "dupDF=pd.read_pickle(\"./hoax/duplicates_100k.pkl.gz\")"
   ]
  },
  {
   "cell_type": "code",
   "execution_count": 328,
   "metadata": {},
   "outputs": [
    {
     "data": {
      "text/plain": [
       "(2728408, 5)"
      ]
     },
     "execution_count": 328,
     "metadata": {},
     "output_type": "execute_result"
    }
   ],
   "source": [
    "dupDF.shape"
   ]
  },
  {
   "cell_type": "code",
   "execution_count": 329,
   "metadata": {},
   "outputs": [
    {
     "data": {
      "text/plain": [
       "doc1      object\n",
       "doc2      object\n",
       "score    float64\n",
       "id1       object\n",
       "id2       object\n",
       "dtype: object"
      ]
     },
     "execution_count": 329,
     "metadata": {},
     "output_type": "execute_result"
    }
   ],
   "source": [
    "dupDF.dtypes"
   ]
  },
  {
   "cell_type": "code",
   "execution_count": 330,
   "metadata": {},
   "outputs": [],
   "source": [
    "dupDF=pd.merge(dupDF,doc_ids,left_on=\"id1\",right_on=\"id\",how=\"inner\")"
   ]
  },
  {
   "cell_type": "code",
   "execution_count": 331,
   "metadata": {},
   "outputs": [],
   "source": [
    "dupDF=pd.merge(dupDF,doc_ids,left_on=\"id2\",right_on=\"id\",how=\"inner\")"
   ]
  },
  {
   "cell_type": "code",
   "execution_count": 332,
   "metadata": {},
   "outputs": [
    {
     "data": {
      "text/plain": [
       "(2443137, 7)"
      ]
     },
     "execution_count": 332,
     "metadata": {},
     "output_type": "execute_result"
    }
   ],
   "source": [
    "dupDF.shape"
   ]
  },
  {
   "cell_type": "code",
   "execution_count": 333,
   "metadata": {},
   "outputs": [
    {
     "data": {
      "image/png": "[encoded data removed]",
      "text/plain": [
       "<Figure size 432x288 with 1 Axes>"
      ]
     },
     "metadata": {},
     "output_type": "display_data"
    }
   ],
   "source": [
    "sns.kdeplot(dupDF['score'],legend=False)\n",
    "plt.xlabel(\"similarity score\")\n",
    "plt.ylabel(\"density\")\n",
    "plt.tight_layout()\n",
    "plt.savefig(\"duplicates_0-5.eps\")"
   ]
  },
  {
   "cell_type": "code",
   "execution_count": 334,
   "metadata": {},
   "outputs": [],
   "source": [
    "dupDF=dupDF[dupDF['score']<=0.9]"
   ]
  },
  {
   "cell_type": "code",
   "execution_count": 335,
   "metadata": {},
   "outputs": [],
   "source": [
    "dupDF=dupDF[dupDF['score']>=0.7]"
   ]
  },
  {
   "cell_type": "code",
   "execution_count": 336,
   "metadata": {},
   "outputs": [
    {
     "data": {
      "text/plain": [
       "(402661, 7)"
      ]
     },
     "execution_count": 336,
     "metadata": {},
     "output_type": "execute_result"
    }
   ],
   "source": [
    "dupDF.shape"
   ]
  },
  {
   "cell_type": "code",
   "execution_count": 337,
   "metadata": {},
   "outputs": [
    {
     "data": {
      "image/png": "[encoded data removed]",
      "text/plain": [
       "<Figure size 432x288 with 1 Axes>"
      ]
     },
     "metadata": {},
     "output_type": "display_data"
    }
   ],
   "source": [
    "sns.kdeplot(dupDF['score'],legend=False)\n",
    "plt.xlabel(\"similarity score\")\n",
    "plt.ylabel(\"density\")\n",
    "plt.tight_layout()\n",
    "plt.savefig(\"duplicates_0-7_0-9.eps\")"
   ]
  },
  {
   "cell_type": "code",
   "execution_count": 183,
   "metadata": {},
   "outputs": [],
   "source": [
    "##dupDF[dupDF['score']==0.88].head()"
   ]
  },
  {
   "cell_type": "code",
   "execution_count": 360,
   "metadata": {},
   "outputs": [
    {
     "data": {
      "text/html": [
       "<div>\n",
       "<style scoped>\n",
       "    .dataframe tbody tr th:only-of-type {\n",
       "        vertical-align: middle;\n",
       "    }\n",
       "\n",
       "    .dataframe tbody tr th {\n",
       "        vertical-align: top;\n",
       "    }\n",
       "\n",
       "    .dataframe thead th {\n",
       "        text-align: right;\n",
       "    }\n",
       "</style>\n",
       "<table border=\"1\" class=\"dataframe\">\n",
       "  <thead>\n",
       "    <tr style=\"text-align: right;\">\n",
       "      <th></th>\n",
       "      <th>doc1</th>\n",
       "      <th>doc2</th>\n",
       "      <th>score</th>\n",
       "      <th>id1</th>\n",
       "      <th>id2</th>\n",
       "      <th>id_x</th>\n",
       "      <th>id_y</th>\n",
       "    </tr>\n",
       "  </thead>\n",
       "  <tbody>\n",
       "    <tr>\n",
       "      <th>2442088</th>\n",
       "      <td>doc_2283937.txt</td>\n",
       "      <td>doc_2270370.txt</td>\n",
       "      <td>0.88</td>\n",
       "      <td>2283937</td>\n",
       "      <td>2270370</td>\n",
       "      <td>2283937</td>\n",
       "      <td>2270370</td>\n",
       "    </tr>\n",
       "  </tbody>\n",
       "</table>\n",
       "</div>"
      ],
      "text/plain": [
       "                    doc1             doc2  score      id1      id2     id_x  \\\n",
       "2442088  doc_2283937.txt  doc_2270370.txt   0.88  2283937  2270370  2283937   \n",
       "\n",
       "            id_y  \n",
       "2442088  2270370  "
      ]
     },
     "execution_count": 360,
     "metadata": {},
     "output_type": "execute_result"
    }
   ],
   "source": [
    "dupDF[dupDF['id1']=='2283937']"
   ]
  },
  {
   "cell_type": "code",
   "execution_count": null,
   "metadata": {},
   "outputs": [],
   "source": [
    "##dupDF[dupDF['score']<dupDF['score'].max()].iloc[0:10]"
   ]
  },
  {
   "cell_type": "code",
   "execution_count": 325,
   "metadata": {},
   "outputs": [],
   "source": [
    "dupG=nx.from_pandas_edgelist(dupDF, 'id1', 'id2', ['score'])"
   ]
  },
  {
   "cell_type": "code",
   "execution_count": 326,
   "metadata": {},
   "outputs": [
    {
     "data": {
      "text/plain": [
       "32045"
      ]
     },
     "execution_count": 326,
     "metadata": {},
     "output_type": "execute_result"
    }
   ],
   "source": [
    "dupG.number_of_nodes()"
   ]
  },
  {
   "cell_type": "code",
   "execution_count": 255,
   "metadata": {},
   "outputs": [
    {
     "data": {
      "text/plain": [
       "402661"
      ]
     },
     "execution_count": 255,
     "metadata": {},
     "output_type": "execute_result"
    }
   ],
   "source": [
    "dupG.number_of_edges()"
   ]
  },
  {
   "cell_type": "code",
   "execution_count": 258,
   "metadata": {},
   "outputs": [
    {
     "data": {
      "text/plain": [
       "0.003677343255505195"
      ]
     },
     "execution_count": 258,
     "metadata": {},
     "output_type": "execute_result"
    }
   ],
   "source": [
    "nx.density(dupG)"
   ]
  },
  {
   "cell_type": "code",
   "execution_count": 257,
   "metadata": {},
   "outputs": [
    {
     "data": {
      "text/plain": [
       "0.7065448562677307"
      ]
     },
     "execution_count": 257,
     "metadata": {},
     "output_type": "execute_result"
    }
   ],
   "source": [
    "nx.transitivity(dupG)"
   ]
  },
  {
   "cell_type": "code",
   "execution_count": 259,
   "metadata": {},
   "outputs": [
    {
     "data": {
      "text/plain": [
       "0.5583772122227634"
      ]
     },
     "execution_count": 259,
     "metadata": {},
     "output_type": "execute_result"
    }
   ],
   "source": [
    "nx.degree_assortativity_coefficient(dupG)"
   ]
  },
  {
   "cell_type": "code",
   "execution_count": 269,
   "metadata": {},
   "outputs": [
    {
     "data": {
      "image/png": "[encoded data removed]",
      "text/plain": [
       "<Figure size 432x288 with 1 Axes>"
      ]
     },
     "metadata": {},
     "output_type": "display_data"
    }
   ],
   "source": [
    "degree_list=[degree for (n, degree) in dupG.degree()]\n",
    "import pandas as pd\n",
    "degree_df=pd.DataFrame(degree_list,columns=[\"degree\"])\n",
    "degree_df.plot(kind='hist',bins=50,legend=False)\n",
    "plt.xscale('log',basex=2)\n",
    "plt.yscale('log',basey=2)\n",
    "plt.xlabel(\"degree\")\n",
    "plt.ylabel(\"# nodes\")\n",
    "plt.savefig(\"./plots/degree_fact_URL.eps\")"
   ]
  },
  {
   "cell_type": "code",
   "execution_count": null,
   "metadata": {},
   "outputs": [],
   "source": [
    "pr = nx.pagerank(dupG, alpha=0.9)\n",
    "pr_df=pd.DataFrame(pr.values(),columns=[\"pagerank\"])"
   ]
  },
  {
   "cell_type": "code",
   "execution_count": 342,
   "metadata": {},
   "outputs": [
    {
     "data": {
      "text/plain": [
       "pagerank    0.000602\n",
       "dtype: float64"
      ]
     },
     "execution_count": 342,
     "metadata": {},
     "output_type": "execute_result"
    }
   ],
   "source": [
    "pr_df.max()"
   ]
  },
  {
   "cell_type": "code",
   "execution_count": 272,
   "metadata": {},
   "outputs": [
    {
     "data": {
      "image/png": "[encoded data removed]",
      "text/plain": [
       "<Figure size 432x288 with 1 Axes>"
      ]
     },
     "metadata": {},
     "output_type": "display_data"
    }
   ],
   "source": [
    "pr_df.plot(kind='hist',bins=20,legend=False)\n",
    "# plt.xscale('log',basex=2)\n",
    "# plt.yscale('log',basey=2)\n",
    "plt.xlabel(\"PageRank\")\n",
    "plt.ylabel(\"# nodes\")\n",
    "plt.savefig(\"./plots/pagerank_URL.eps\")"
   ]
  },
  {
   "cell_type": "code",
   "execution_count": 273,
   "metadata": {},
   "outputs": [],
   "source": [
    "betweenness_dict=nx.betweenness_centrality(dupG)\n",
    "betweenness_df=pd.DataFrame(betweenness_dict.values(),columns=[\"Betweenness Centrality\"])"
   ]
  },
  {
   "cell_type": "code",
   "execution_count": 275,
   "metadata": {},
   "outputs": [
    {
     "data": {
      "image/png": "[encoded data removed]",
      "text/plain": [
       "<Figure size 432x288 with 1 Axes>"
      ]
     },
     "metadata": {},
     "output_type": "display_data"
    }
   ],
   "source": [
    "betweenness_df.plot(kind='hist',bins=10,legend=False)\n",
    "# plt.xscale('log',basex=2)\n",
    "# plt.yscale('log',basey=2)\n",
    "plt.xlabel(\"Betweenness Centrality\")\n",
    "plt.ylabel(\"# nodes\")\n",
    "plt.savefig(\"./plots/betweenness_URL.eps\")"
   ]
  },
  {
   "cell_type": "markdown",
   "metadata": {},
   "source": [
    "-- save duplicate graphs"
   ]
  },
  {
   "cell_type": "code",
   "execution_count": 52,
   "metadata": {},
   "outputs": [],
   "source": [
    "##nx.write_gexf(dupG, \"dupG_updated.gexf\")"
   ]
  },
  {
   "cell_type": "code",
   "execution_count": 176,
   "metadata": {},
   "outputs": [],
   "source": [
    "cc_dupGs=nx.connected_component_subgraphs(dupG)"
   ]
  },
  {
   "cell_type": "code",
   "execution_count": 177,
   "metadata": {},
   "outputs": [],
   "source": [
    "largest_dupG = max(cc_dupGs, key=len)"
   ]
  },
  {
   "cell_type": "code",
   "execution_count": 178,
   "metadata": {},
   "outputs": [
    {
     "data": {
      "text/plain": [
       "887"
      ]
     },
     "execution_count": 178,
     "metadata": {},
     "output_type": "execute_result"
    }
   ],
   "source": [
    "largest_dupG.number_of_nodes()"
   ]
  },
  {
   "cell_type": "code",
   "execution_count": 357,
   "metadata": {},
   "outputs": [
    {
     "name": "stdout",
     "output_type": "stream",
     "text": [
      "2233104\n",
      "2233079\n"
     ]
    }
   ],
   "source": [
    "for node in components[2979].nodes():\n",
    "    print(node)"
   ]
  },
  {
   "cell_type": "code",
   "execution_count": 180,
   "metadata": {},
   "outputs": [],
   "source": [
    "##cc_dupGs.next().number_of_nodes()"
   ]
  },
  {
   "cell_type": "code",
   "execution_count": 181,
   "metadata": {},
   "outputs": [],
   "source": [
    "##nx.write_gexf(largest_dupG, \"largest_dupG.gexf\")"
   ]
  },
  {
   "cell_type": "code",
   "execution_count": 206,
   "metadata": {},
   "outputs": [],
   "source": [
    "##nx.draw_networkx(largest_dupG,with_labels=False,node_size=5)"
   ]
  },
  {
   "cell_type": "code",
   "execution_count": null,
   "metadata": {},
   "outputs": [],
   "source": [
    "nx.draw_networkx(cc_dupGs.next(),with_labels=False,node_size=5)"
   ]
  },
  {
   "cell_type": "code",
   "execution_count": null,
   "metadata": {},
   "outputs": [],
   "source": [
    "##dupDF[dupDF['id1']=='file2317448']"
   ]
  },
  {
   "cell_type": "code",
   "execution_count": 185,
   "metadata": {},
   "outputs": [
    {
     "name": "stdout",
     "output_type": "stream",
     "text": [
      "# nodes: 14799\n"
     ]
    }
   ],
   "source": [
    "print(\"# nodes: %d\"%dupG.number_of_nodes())"
   ]
  },
  {
   "cell_type": "code",
   "execution_count": 186,
   "metadata": {},
   "outputs": [
    {
     "name": "stdout",
     "output_type": "stream",
     "text": [
      "# edges: 402661\n"
     ]
    }
   ],
   "source": [
    "print(\"# edges: %d\"%dupG.number_of_edges())"
   ]
  },
  {
   "cell_type": "code",
   "execution_count": 184,
   "metadata": {},
   "outputs": [
    {
     "name": "stdout",
     "output_type": "stream",
     "text": [
      "# components: 3269\n"
     ]
    }
   ],
   "source": [
    "print(\"# components: %d\"%nx.number_connected_components(dupG))"
   ]
  },
  {
   "cell_type": "code",
   "execution_count": 187,
   "metadata": {},
   "outputs": [],
   "source": [
    "components=[dupG.subgraph(c) for c in nx.connected_components(dupG)]"
   ]
  },
  {
   "cell_type": "code",
   "execution_count": 345,
   "metadata": {},
   "outputs": [
    {
     "data": {
      "text/plain": [
       "13412"
      ]
     },
     "execution_count": 345,
     "metadata": {},
     "output_type": "execute_result"
    }
   ],
   "source": [
    "components[4].number_of_edges()"
   ]
  },
  {
   "cell_type": "code",
   "execution_count": 346,
   "metadata": {},
   "outputs": [],
   "source": [
    "bridges_dog=list(nx.bridges(components[4]))"
   ]
  },
  {
   "cell_type": "code",
   "execution_count": 347,
   "metadata": {},
   "outputs": [
    {
     "data": {
      "text/plain": [
       "[('2235000', '2225361'), ('2268463', '2280557')]"
      ]
     },
     "execution_count": 347,
     "metadata": {},
     "output_type": "execute_result"
    }
   ],
   "source": [
    "bridges_dog"
   ]
  },
  {
   "cell_type": "code",
   "execution_count": 343,
   "metadata": {},
   "outputs": [
    {
     "data": {
      "image/png": "[encoded data removed]",
      "text/plain": [
       "<Figure size 432x288 with 1 Axes>"
      ]
     },
     "metadata": {},
     "output_type": "display_data"
    }
   ],
   "source": [
    "fid=4\n",
    "nx.draw_networkx(components[fid],with_labels=False,node_size=5)\n",
    "plt.axis('off')\n",
    "plt.savefig('fact_URL_%d.eps'%fid, dpi=200, bbox_inches='tight')"
   ]
  },
  {
   "cell_type": "code",
   "execution_count": null,
   "metadata": {},
   "outputs": [],
   "source": []
  },
  {
   "cell_type": "code",
   "execution_count": 218,
   "metadata": {},
   "outputs": [],
   "source": [
    "##nx.write_gexf(components[16], \"fact_16.gexf\")"
   ]
  },
  {
   "cell_type": "markdown",
   "metadata": {},
   "source": [
    "-- RT Networks"
   ]
  },
  {
   "cell_type": "code",
   "execution_count": null,
   "metadata": {},
   "outputs": [],
   "source": [
    "##stars=pd.read_csv(\"../../../../new_corpus/star_networks_100k.csv\")"
   ]
  },
  {
   "cell_type": "code",
   "execution_count": null,
   "metadata": {},
   "outputs": [],
   "source": [
    "##unetwork=stars[['id','canonical_url','date_published','from_user_id','from_user_screen_name','to_user_id','to_user_screen_name','tweet_created_at','tweet_type']]"
   ]
  },
  {
   "cell_type": "code",
   "execution_count": null,
   "metadata": {},
   "outputs": [],
   "source": [
    "##unetwork.columns=['group_id','canonical_url','date_published','from_user_id','from_user_screen_name','to_user_id','to_user_screen_name','tweet_created_at','tweet_type']"
   ]
  },
  {
   "cell_type": "code",
   "execution_count": null,
   "metadata": {},
   "outputs": [],
   "source": [
    "##unetwork.iloc[0:5]"
   ]
  },
  {
   "cell_type": "markdown",
   "metadata": {},
   "source": [
    "-- Get RT component network"
   ]
  },
  {
   "cell_type": "code",
   "execution_count": null,
   "metadata": {},
   "outputs": [],
   "source": [
    "# def get_component_network(fact_id):\n",
    "#     ##fact_id=index+1\n",
    "    \n",
    "#     component=components[fact_id]\n",
    "#     cgraph=[]\n",
    "#     for cnode in component.nodes():\n",
    "#         cgraph.append(cnode)\n",
    "#     ##print(cgraph)\n",
    "#     cgraphDF=pd.DataFrame(cgraph,columns=[\"id\"])\n",
    "#     cgraphDF['id']=cgraphDF['id'].astype(int)\n",
    "#     cgraphDFX=pd.merge(cgraphDF,corpus,on=\"id\",how=\"inner\")\n",
    "    \n",
    "#     fact_network=pd.merge(cgraphDFX,unetwork,on='group_id',how='inner')\n",
    "#     fact_network['fact_id']=fact_id\n",
    "    \n",
    "#     ##fact_network_list.append(fact_network)\n",
    "    \n",
    "#     fact_network.to_pickle('./hoax/100k_fact_networks/fact_network_%d.pkl.gz'%fact_id)\n",
    "#     print(\"completed: %d\"%fact_id)"
   ]
  },
  {
   "cell_type": "code",
   "execution_count": null,
   "metadata": {},
   "outputs": [],
   "source": [
    "# ##fact_network_list=[]\n",
    "# for i in range(len(components)):\n",
    "#     pool.add_task(get_component_network,i)\n",
    "# pool.wait_completion()"
   ]
  },
  {
   "cell_type": "markdown",
   "metadata": {},
   "source": [
    "-- Component Metrics"
   ]
  },
  {
   "cell_type": "code",
   "execution_count": 188,
   "metadata": {},
   "outputs": [],
   "source": [
    "def get_component_metrics(fact_id):\n",
    "    component=components[fact_id]\n",
    "    metrics_list=[]\n",
    "    metrics_list.append(fact_id)\n",
    "    metrics_list.append(component.number_of_nodes())\n",
    "    metrics_list.append(component.number_of_edges())\n",
    "    metrics_list.append(nx.transitivity(component))\n",
    "    metrics_list.append(nx.degree_assortativity_coefficient(component))\n",
    "    \n",
    "    component_metrics_list.append(metrics_list)"
   ]
  },
  {
   "cell_type": "code",
   "execution_count": 191,
   "metadata": {},
   "outputs": [
    {
     "name": "stderr",
     "output_type": "stream",
     "text": [
      "/usr/lib/python2.7/site-packages/networkx/algorithms/assortativity/correlation.py:288: RuntimeWarning: invalid value encountered in double_scalars\n",
      "  return (xy * (M - ab)).sum() / numpy.sqrt(vara * varb)\n"
     ]
    }
   ],
   "source": [
    "component_metrics_list=[]\n",
    "for i in range(len(components)):\n",
    "    pool.add_task(get_component_metrics,i)\n",
    "pool.wait_completion()"
   ]
  },
  {
   "cell_type": "code",
   "execution_count": 192,
   "metadata": {},
   "outputs": [],
   "source": [
    "component_metrics=pd.DataFrame(component_metrics_list,columns=[\"fact_id\",\"# nodes\",\"# edges\",\"transitivity\",\"degree_assortativity_coefficient\"])"
   ]
  },
  {
   "cell_type": "code",
   "execution_count": 204,
   "metadata": {},
   "outputs": [],
   "source": [
    "component_metrics.sort_values(by=\"# nodes\",inplace=True)"
   ]
  },
  {
   "cell_type": "code",
   "execution_count": 243,
   "metadata": {},
   "outputs": [
    {
     "data": {
      "text/plain": [
       "(3269, 6)"
      ]
     },
     "execution_count": 243,
     "metadata": {},
     "output_type": "execute_result"
    }
   ],
   "source": [
    "component_metrics.shape"
   ]
  },
  {
   "cell_type": "code",
   "execution_count": 193,
   "metadata": {},
   "outputs": [],
   "source": [
    "component_metrics.to_pickle(\"./hoax/component_metrics_100k_updated.pkl.gz\")"
   ]
  },
  {
   "cell_type": "code",
   "execution_count": null,
   "metadata": {},
   "outputs": [],
   "source": [
    "component_metrics=pd.read_pickle(\"./hoax/component_metrics_100k.pkl.gz\")"
   ]
  },
  {
   "cell_type": "code",
   "execution_count": 195,
   "metadata": {},
   "outputs": [
    {
     "data": {
      "text/plain": [
       "(3269, 5)"
      ]
     },
     "execution_count": 195,
     "metadata": {},
     "output_type": "execute_result"
    }
   ],
   "source": [
    "component_metrics.shape"
   ]
  },
  {
   "cell_type": "code",
   "execution_count": 338,
   "metadata": {},
   "outputs": [
    {
     "data": {
      "text/plain": [
       "2757"
      ]
     },
     "execution_count": 338,
     "metadata": {},
     "output_type": "execute_result"
    }
   ],
   "source": [
    "component_metrics[\"degree_assortativity_coefficient\"].isnull().sum()"
   ]
  },
  {
   "cell_type": "code",
   "execution_count": 196,
   "metadata": {},
   "outputs": [
    {
     "data": {
      "text/plain": [
       "68"
      ]
     },
     "execution_count": 196,
     "metadata": {},
     "output_type": "execute_result"
    }
   ],
   "source": [
    "component_metrics[component_metrics[\"transitivity\"]==1].shape[0]"
   ]
  },
  {
   "cell_type": "code",
   "execution_count": 197,
   "metadata": {},
   "outputs": [
    {
     "data": {
      "text/plain": [
       "3057"
      ]
     },
     "execution_count": 197,
     "metadata": {},
     "output_type": "execute_result"
    }
   ],
   "source": [
    "component_metrics[component_metrics[\"transitivity\"]==0].shape[0]"
   ]
  },
  {
   "cell_type": "code",
   "execution_count": 253,
   "metadata": {},
   "outputs": [
    {
     "data": {
      "text/html": [
       "<div>\n",
       "<style scoped>\n",
       "    .dataframe tbody tr th:only-of-type {\n",
       "        vertical-align: middle;\n",
       "    }\n",
       "\n",
       "    .dataframe tbody tr th {\n",
       "        vertical-align: top;\n",
       "    }\n",
       "\n",
       "    .dataframe thead th {\n",
       "        text-align: right;\n",
       "    }\n",
       "</style>\n",
       "<table border=\"1\" class=\"dataframe\">\n",
       "  <thead>\n",
       "    <tr style=\"text-align: right;\">\n",
       "      <th></th>\n",
       "      <th># nodes</th>\n",
       "      <th>density</th>\n",
       "      <th>transitivity</th>\n",
       "      <th>degree_assortativity_coefficient</th>\n",
       "    </tr>\n",
       "  </thead>\n",
       "  <tbody>\n",
       "    <tr>\n",
       "      <th>count</th>\n",
       "      <td>3269.000000</td>\n",
       "      <td>3269.000000</td>\n",
       "      <td>3269.000000</td>\n",
       "      <td>512.000000</td>\n",
       "    </tr>\n",
       "    <tr>\n",
       "      <th>mean</th>\n",
       "      <td>4.527072</td>\n",
       "      <td>0.936432</td>\n",
       "      <td>0.046473</td>\n",
       "      <td>-0.838010</td>\n",
       "    </tr>\n",
       "    <tr>\n",
       "      <th>std</th>\n",
       "      <td>30.398047</td>\n",
       "      <td>0.153853</td>\n",
       "      <td>0.186698</td>\n",
       "      <td>0.270935</td>\n",
       "    </tr>\n",
       "    <tr>\n",
       "      <th>min</th>\n",
       "      <td>2.000000</td>\n",
       "      <td>0.022535</td>\n",
       "      <td>0.000000</td>\n",
       "      <td>-1.000000</td>\n",
       "    </tr>\n",
       "    <tr>\n",
       "      <th>25%</th>\n",
       "      <td>2.000000</td>\n",
       "      <td>1.000000</td>\n",
       "      <td>0.000000</td>\n",
       "      <td>-1.000000</td>\n",
       "    </tr>\n",
       "    <tr>\n",
       "      <th>50%</th>\n",
       "      <td>2.000000</td>\n",
       "      <td>1.000000</td>\n",
       "      <td>0.000000</td>\n",
       "      <td>-1.000000</td>\n",
       "    </tr>\n",
       "    <tr>\n",
       "      <th>75%</th>\n",
       "      <td>2.000000</td>\n",
       "      <td>1.000000</td>\n",
       "      <td>0.000000</td>\n",
       "      <td>-0.673752</td>\n",
       "    </tr>\n",
       "    <tr>\n",
       "      <th>max</th>\n",
       "      <td>887.000000</td>\n",
       "      <td>1.000000</td>\n",
       "      <td>1.000000</td>\n",
       "      <td>0.501898</td>\n",
       "    </tr>\n",
       "  </tbody>\n",
       "</table>\n",
       "</div>"
      ],
      "text/plain": [
       "           # nodes      density  transitivity  \\\n",
       "count  3269.000000  3269.000000   3269.000000   \n",
       "mean      4.527072     0.936432      0.046473   \n",
       "std      30.398047     0.153853      0.186698   \n",
       "min       2.000000     0.022535      0.000000   \n",
       "25%       2.000000     1.000000      0.000000   \n",
       "50%       2.000000     1.000000      0.000000   \n",
       "75%       2.000000     1.000000      0.000000   \n",
       "max     887.000000     1.000000      1.000000   \n",
       "\n",
       "       degree_assortativity_coefficient  \n",
       "count                        512.000000  \n",
       "mean                          -0.838010  \n",
       "std                            0.270935  \n",
       "min                           -1.000000  \n",
       "25%                           -1.000000  \n",
       "50%                           -1.000000  \n",
       "75%                           -0.673752  \n",
       "max                            0.501898  "
      ]
     },
     "execution_count": 253,
     "metadata": {},
     "output_type": "execute_result"
    }
   ],
   "source": [
    "component_metrics[['# nodes','density','transitivity','degree_assortativity_coefficient']].describe()"
   ]
  },
  {
   "cell_type": "code",
   "execution_count": 199,
   "metadata": {},
   "outputs": [],
   "source": [
    "component_metrics[\"density\"]=component_metrics[\"# edges\"]/(component_metrics[\"# nodes\"]*(component_metrics[\"# nodes\"]-1)/2)"
   ]
  },
  {
   "cell_type": "code",
   "execution_count": 301,
   "metadata": {},
   "outputs": [
    {
     "data": {
      "image/png": "[encoded data removed]",
      "text/plain": [
       "<Figure size 432x288 with 1 Axes>"
      ]
     },
     "metadata": {},
     "output_type": "display_data"
    }
   ],
   "source": [
    "component_metrics[\"# nodes\"].plot(kind='hist',bins=500)\n",
    "plt.xscale('log',basex=2)\n",
    "plt.yscale('log',basey=2)\n",
    "plt.xlabel(\"# nodes\")\n",
    "plt.ylabel(\"# components\")\n",
    "plt.savefig(\"./plots/cc_size_fact_URL.eps\")"
   ]
  },
  {
   "cell_type": "code",
   "execution_count": 302,
   "metadata": {},
   "outputs": [
    {
     "data": {
      "image/png": "[encoded data removed]",
      "text/plain": [
       "<Figure size 432x288 with 1 Axes>"
      ]
     },
     "metadata": {},
     "output_type": "display_data"
    }
   ],
   "source": [
    "component_metrics[\"degree_assortativity_coefficient\"].plot(kind='hist')\n",
    "plt.xlabel(\"assortativity\")\n",
    "plt.ylabel(\"# components\")\n",
    "plt.savefig(\"./plots/cc_assortativity_fact_URL.eps\")"
   ]
  },
  {
   "cell_type": "code",
   "execution_count": null,
   "metadata": {},
   "outputs": [],
   "source": []
  },
  {
   "cell_type": "code",
   "execution_count": 341,
   "metadata": {},
   "outputs": [
    {
     "data": {
      "image/png": "[encoded data removed]",
      "text/plain": [
       "<Figure size 432x288 with 1 Axes>"
      ]
     },
     "metadata": {},
     "output_type": "display_data"
    }
   ],
   "source": [
    "component_metrics[\"transitivity\"].plot(kind='hist',bins=5)\n",
    "plt.yscale('log',basey=2)\n",
    "plt.xlabel(\"transitivity\")\n",
    "plt.ylabel(\"# components\")\n",
    "plt.savefig(\"./plots/cc_transitivity_fact_URL.eps\")"
   ]
  },
  {
   "cell_type": "code",
   "execution_count": null,
   "metadata": {},
   "outputs": [],
   "source": []
  }
 ],
 "metadata": {
  "kernelspec": {
   "display_name": "Python 2",
   "language": "python",
   "name": "python2"
  },
  "language_info": {
   "codemirror_mode": {
    "name": "ipython",
    "version": 2
   },
   "file_extension": ".py",
   "mimetype": "text/x-python",
   "name": "python",
   "nbconvert_exporter": "python",
   "pygments_lexer": "ipython2",
   "version": "2.7.5"
  }
 },
 "nbformat": 4,
 "nbformat_minor": 2
}
