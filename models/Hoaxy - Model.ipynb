{
 "cells": [
  {
   "cell_type": "code",
   "execution_count": 388,
   "metadata": {},
   "outputs": [],
   "source": [
    "ktag=\"lda\""
   ]
  },
  {
   "cell_type": "code",
   "execution_count": 362,
   "metadata": {},
   "outputs": [],
   "source": [
    "import numpy as np\n",
    "import pandas as pd\n",
    "import sys,os\n",
    "import seaborn as sns\n",
    "sns.set(style='whitegrid')\n",
    "import matplotlib.pyplot as plt\n",
    "from keras.models import Sequential\n",
    "from keras.layers import Dense,Dropout\n",
    "from keras.wrappers.scikit_learn import KerasRegressor\n",
    "from sklearn.model_selection import cross_val_score\n",
    "from sklearn.model_selection import KFold\n",
    "from sklearn.preprocessing import StandardScaler,MinMaxScaler,LabelBinarizer\n",
    "from sklearn.pipeline import Pipeline\n",
    "\n",
    "from sklearn.metrics import accuracy_score,roc_curve\n",
    "\n",
    "from sklearn.ensemble import RandomForestRegressor,RandomForestClassifier\n",
    "from sklearn.datasets import make_regression\n",
    "\n",
    "from sklearn.model_selection import train_test_split\n",
    "from scipy import stats\n",
    "\n",
    "from keras.optimizers import Adam\n",
    "\n",
    "from sklearn.metrics import roc_curve\n",
    "from sklearn.metrics import confusion_matrix\n",
    "from sklearn.metrics import precision_recall_fscore_support\n",
    "\n",
    "from imblearn.under_sampling import RandomUnderSampler,NearMiss\n",
    "from imblearn.over_sampling import RandomOverSampler,SMOTE\n",
    "\n",
    "from keras.models import Sequential,load_model\n",
    "from keras.layers import LSTM\n",
    "from keras.layers import Dense,Conv2D,MaxPooling2D,Flatten\n",
    "from keras.layers import TimeDistributed,BatchNormalization\n",
    "from keras.layers import Bidirectional\n",
    "\n",
    "from keras.preprocessing.sequence import pad_sequences\n",
    "from keras.callbacks import ModelCheckpoint, History\n",
    "\n",
    "from keras.utils import to_categorical\n",
    "from sklearn.metrics import roc_auc_score\n",
    "\n",
    "import warnings\n",
    "warnings.filterwarnings(\"ignore\")"
   ]
  },
  {
   "cell_type": "code",
   "execution_count": 3,
   "metadata": {},
   "outputs": [],
   "source": [
    "os.environ[\"CUDA_DEVICE_ORDER\"] = \"PCI_BUS_ID\" # so the IDs match nvidia-smi\n",
    "os.environ[\"CUDA_VISIBLE_DEVICES\"] = \"0\" # \"0, 1\" for multiple"
   ]
  },
  {
   "cell_type": "code",
   "execution_count": 90,
   "metadata": {},
   "outputs": [],
   "source": [
    "stars=pd.read_pickle(\"/data/Hoaxy/star_networks_adoption_time_updated.pkl.gz\")"
   ]
  },
  {
   "cell_type": "code",
   "execution_count": 240,
   "metadata": {},
   "outputs": [
    {
     "data": {
      "text/html": [
       "<div>\n",
       "<style scoped>\n",
       "    .dataframe tbody tr th:only-of-type {\n",
       "        vertical-align: middle;\n",
       "    }\n",
       "\n",
       "    .dataframe tbody tr th {\n",
       "        vertical-align: top;\n",
       "    }\n",
       "\n",
       "    .dataframe thead th {\n",
       "        text-align: right;\n",
       "    }\n",
       "</style>\n",
       "<table border=\"1\" class=\"dataframe\">\n",
       "  <thead>\n",
       "    <tr style=\"text-align: right;\">\n",
       "      <th></th>\n",
       "      <th>document_ids</th>\n",
       "      <th>from_user_id</th>\n",
       "      <th>to_user_id</th>\n",
       "      <th>norm_count</th>\n",
       "    </tr>\n",
       "  </thead>\n",
       "  <tbody>\n",
       "    <tr>\n",
       "      <th>0</th>\n",
       "      <td>1099777</td>\n",
       "      <td>1025830696923922432</td>\n",
       "      <td>1</td>\n",
       "      <td>-0.065577</td>\n",
       "    </tr>\n",
       "    <tr>\n",
       "      <th>0</th>\n",
       "      <td>1099777</td>\n",
       "      <td>1025830696923922432</td>\n",
       "      <td>1</td>\n",
       "      <td>-0.065577</td>\n",
       "    </tr>\n",
       "    <tr>\n",
       "      <th>0</th>\n",
       "      <td>1099777</td>\n",
       "      <td>1025830696923922432</td>\n",
       "      <td>1</td>\n",
       "      <td>-0.065577</td>\n",
       "    </tr>\n",
       "    <tr>\n",
       "      <th>0</th>\n",
       "      <td>1099777</td>\n",
       "      <td>1025830696923922432</td>\n",
       "      <td>1</td>\n",
       "      <td>-0.065577</td>\n",
       "    </tr>\n",
       "    <tr>\n",
       "      <th>0</th>\n",
       "      <td>1099843</td>\n",
       "      <td>188760974</td>\n",
       "      <td>3</td>\n",
       "      <td>-0.027527</td>\n",
       "    </tr>\n",
       "  </tbody>\n",
       "</table>\n",
       "</div>"
      ],
      "text/plain": [
       "   document_ids         from_user_id  to_user_id  norm_count\n",
       "0       1099777  1025830696923922432           1   -0.065577\n",
       "0       1099777  1025830696923922432           1   -0.065577\n",
       "0       1099777  1025830696923922432           1   -0.065577\n",
       "0       1099777  1025830696923922432           1   -0.065577\n",
       "0       1099843            188760974           3   -0.027527"
      ]
     },
     "execution_count": 240,
     "metadata": {},
     "output_type": "execute_result"
    }
   ],
   "source": [
    "stars.head()"
   ]
  },
  {
   "cell_type": "code",
   "execution_count": 92,
   "metadata": {},
   "outputs": [],
   "source": [
    "##stars[\"document_ids\"].nunique(),stars[\"from_user_id\"].nunique(),stars.shape[0]"
   ]
  },
  {
   "cell_type": "code",
   "execution_count": 93,
   "metadata": {},
   "outputs": [],
   "source": [
    "assert (stars[[\"document_ids\",\"from_user_id\"]].drop_duplicates().shape[0]*4 == stars.shape[0])"
   ]
  },
  {
   "cell_type": "code",
   "execution_count": 235,
   "metadata": {},
   "outputs": [],
   "source": [
    "stars=stars[[\"document_ids\",\"from_user_id\",\"to_user_id\"]]"
   ]
  },
  {
   "cell_type": "code",
   "execution_count": 239,
   "metadata": {},
   "outputs": [],
   "source": [
    "stars[\"norm_count\"]=(stars[\"to_user_id\"]-stars[\"to_user_id\"].mean()) / stars[\"to_user_id\"].std()"
   ]
  },
  {
   "cell_type": "code",
   "execution_count": 241,
   "metadata": {},
   "outputs": [],
   "source": [
    "stars_qlist=stars.groupby([\"document_ids\",\"from_user_id\"])[\"norm_count\"].apply(list).reset_index(name=\"qstages\")"
   ]
  },
  {
   "cell_type": "code",
   "execution_count": 242,
   "metadata": {},
   "outputs": [],
   "source": [
    "stars_by_max_size=stars.groupby([\"document_ids\",\"from_user_id\"])[\"norm_count\"].max().reset_index(name=\"max_size\")"
   ]
  },
  {
   "cell_type": "code",
   "execution_count": 243,
   "metadata": {},
   "outputs": [],
   "source": [
    "stars_doc_by_max_size=stars_by_max_size.groupby(\"document_ids\")[\"max_size\"].max().reset_index(name=\"max_size\")"
   ]
  },
  {
   "cell_type": "code",
   "execution_count": 244,
   "metadata": {},
   "outputs": [],
   "source": [
    "##stars_doc_by_max_size=stars_doc_by_max_size[stars_doc_by_max_size[\"max_size\"]>10]"
   ]
  },
  {
   "cell_type": "code",
   "execution_count": 245,
   "metadata": {},
   "outputs": [],
   "source": [
    "stars_by_max_size_filtd=pd.merge(stars_by_max_size,stars_doc_by_max_size,on=[\"document_ids\",\"max_size\"],how=\"inner\")"
   ]
  },
  {
   "cell_type": "code",
   "execution_count": 246,
   "metadata": {},
   "outputs": [],
   "source": [
    "##stars_by_max_size_filtd.describe()"
   ]
  },
  {
   "cell_type": "code",
   "execution_count": 247,
   "metadata": {},
   "outputs": [],
   "source": [
    "stars_qlist_filtd=pd.merge(stars_qlist,stars_by_max_size_filtd,on=[\"document_ids\",\"from_user_id\"],how=\"inner\")"
   ]
  },
  {
   "cell_type": "code",
   "execution_count": 248,
   "metadata": {},
   "outputs": [],
   "source": [
    "stars_qlist_filtd=stars_qlist_filtd[[\"document_ids\",\"qstages\"]]"
   ]
  },
  {
   "cell_type": "code",
   "execution_count": 249,
   "metadata": {},
   "outputs": [
    {
     "data": {
      "text/plain": [
       "(8764, 2)"
      ]
     },
     "execution_count": 249,
     "metadata": {},
     "output_type": "execute_result"
    }
   ],
   "source": [
    "stars_qlist_filtd.shape"
   ]
  },
  {
   "cell_type": "markdown",
   "metadata": {},
   "source": [
    "## Language Models"
   ]
  },
  {
   "cell_type": "code",
   "execution_count": 389,
   "metadata": {},
   "outputs": [],
   "source": [
    "pairs=pd.read_pickle(\"/data/Hoaxy/%s_doc_pairs.pkl.gz\"%ktag)"
   ]
  },
  {
   "cell_type": "code",
   "execution_count": 390,
   "metadata": {},
   "outputs": [
    {
     "data": {
      "text/plain": [
       "(1400000, 3)"
      ]
     },
     "execution_count": 390,
     "metadata": {},
     "output_type": "execute_result"
    }
   ],
   "source": [
    "pairs.shape"
   ]
  },
  {
   "cell_type": "code",
   "execution_count": 391,
   "metadata": {},
   "outputs": [],
   "source": [
    "## preparing data\n",
    "example_pairs=pd.merge(pairs,stars_qlist_filtd,left_on=[\"document1\"],right_on=[\"document_ids\"],how=\"inner\")"
   ]
  },
  {
   "cell_type": "code",
   "execution_count": 392,
   "metadata": {},
   "outputs": [],
   "source": [
    "example_pairs=pd.merge(example_pairs,stars_qlist_filtd,left_on=[\"document2\"],right_on=[\"document_ids\"],how=\"inner\")"
   ]
  },
  {
   "cell_type": "code",
   "execution_count": 393,
   "metadata": {},
   "outputs": [
    {
     "data": {
      "text/plain": [
       "(548744, 7)"
      ]
     },
     "execution_count": 393,
     "metadata": {},
     "output_type": "execute_result"
    }
   ],
   "source": [
    "example_pairs.shape"
   ]
  },
  {
   "cell_type": "code",
   "execution_count": 394,
   "metadata": {},
   "outputs": [
    {
     "data": {
      "text/html": [
       "<div>\n",
       "<style scoped>\n",
       "    .dataframe tbody tr th:only-of-type {\n",
       "        vertical-align: middle;\n",
       "    }\n",
       "\n",
       "    .dataframe tbody tr th {\n",
       "        vertical-align: top;\n",
       "    }\n",
       "\n",
       "    .dataframe thead th {\n",
       "        text-align: right;\n",
       "    }\n",
       "</style>\n",
       "<table border=\"1\" class=\"dataframe\">\n",
       "  <thead>\n",
       "    <tr style=\"text-align: right;\">\n",
       "      <th></th>\n",
       "      <th>document1</th>\n",
       "      <th>document2</th>\n",
       "      <th>class</th>\n",
       "      <th>document_ids_x</th>\n",
       "      <th>qstages_x</th>\n",
       "      <th>document_ids_y</th>\n",
       "      <th>qstages_y</th>\n",
       "    </tr>\n",
       "  </thead>\n",
       "  <tbody>\n",
       "    <tr>\n",
       "      <th>548739</th>\n",
       "      <td>1099845</td>\n",
       "      <td>1100350</td>\n",
       "      <td>1</td>\n",
       "      <td>1099845</td>\n",
       "      <td>[-0.0655768575938136, -0.0655768575938136, -0....</td>\n",
       "      <td>1100350</td>\n",
       "      <td>[-0.0655768575938136, -0.0655768575938136, -0....</td>\n",
       "    </tr>\n",
       "    <tr>\n",
       "      <th>548740</th>\n",
       "      <td>1099754</td>\n",
       "      <td>1100350</td>\n",
       "      <td>1</td>\n",
       "      <td>1099754</td>\n",
       "      <td>[-0.008502160980427949, -0.008502160980427949,...</td>\n",
       "      <td>1100350</td>\n",
       "      <td>[-0.0655768575938136, -0.0655768575938136, -0....</td>\n",
       "    </tr>\n",
       "    <tr>\n",
       "      <th>548741</th>\n",
       "      <td>1099754</td>\n",
       "      <td>1100350</td>\n",
       "      <td>1</td>\n",
       "      <td>1099754</td>\n",
       "      <td>[-0.008502160980427949, -0.008502160980427949,...</td>\n",
       "      <td>1100350</td>\n",
       "      <td>[-0.0655768575938136, -0.0655768575938136, -0....</td>\n",
       "    </tr>\n",
       "    <tr>\n",
       "      <th>548742</th>\n",
       "      <td>1099206</td>\n",
       "      <td>1099894</td>\n",
       "      <td>1</td>\n",
       "      <td>1099206</td>\n",
       "      <td>[-0.027527059851556502, -0.027527059851556502,...</td>\n",
       "      <td>1099894</td>\n",
       "      <td>[-0.0655768575938136, -0.046551958722685055, -...</td>\n",
       "    </tr>\n",
       "    <tr>\n",
       "      <th>548743</th>\n",
       "      <td>1099206</td>\n",
       "      <td>1099894</td>\n",
       "      <td>1</td>\n",
       "      <td>1099206</td>\n",
       "      <td>[-0.027527059851556502, -0.027527059851556502,...</td>\n",
       "      <td>1099894</td>\n",
       "      <td>[-0.0655768575938136, -0.046551958722685055, -...</td>\n",
       "    </tr>\n",
       "  </tbody>\n",
       "</table>\n",
       "</div>"
      ],
      "text/plain": [
       "        document1  document2  class  document_ids_x  \\\n",
       "548739    1099845    1100350      1         1099845   \n",
       "548740    1099754    1100350      1         1099754   \n",
       "548741    1099754    1100350      1         1099754   \n",
       "548742    1099206    1099894      1         1099206   \n",
       "548743    1099206    1099894      1         1099206   \n",
       "\n",
       "                                                qstages_x  document_ids_y  \\\n",
       "548739  [-0.0655768575938136, -0.0655768575938136, -0....         1100350   \n",
       "548740  [-0.008502160980427949, -0.008502160980427949,...         1100350   \n",
       "548741  [-0.008502160980427949, -0.008502160980427949,...         1100350   \n",
       "548742  [-0.027527059851556502, -0.027527059851556502,...         1099894   \n",
       "548743  [-0.027527059851556502, -0.027527059851556502,...         1099894   \n",
       "\n",
       "                                                qstages_y  \n",
       "548739  [-0.0655768575938136, -0.0655768575938136, -0....  \n",
       "548740  [-0.0655768575938136, -0.0655768575938136, -0....  \n",
       "548741  [-0.0655768575938136, -0.0655768575938136, -0....  \n",
       "548742  [-0.0655768575938136, -0.046551958722685055, -...  \n",
       "548743  [-0.0655768575938136, -0.046551958722685055, -...  "
      ]
     },
     "execution_count": 394,
     "metadata": {},
     "output_type": "execute_result"
    }
   ],
   "source": [
    "example_pairs.tail()"
   ]
  },
  {
   "cell_type": "code",
   "execution_count": 395,
   "metadata": {},
   "outputs": [
    {
     "data": {
      "text/plain": [
       "(237396, 7)"
      ]
     },
     "execution_count": 395,
     "metadata": {},
     "output_type": "execute_result"
    }
   ],
   "source": [
    "example_pairs[example_pairs[\"class\"]==0].shape"
   ]
  },
  {
   "cell_type": "code",
   "execution_count": 396,
   "metadata": {},
   "outputs": [],
   "source": [
    "x1=example_pairs[\"qstages_x\"].values\n",
    "x2=example_pairs[\"qstages_y\"].values"
   ]
  },
  {
   "cell_type": "code",
   "execution_count": 397,
   "metadata": {},
   "outputs": [
    {
     "data": {
      "text/plain": [
       "(548744,)"
      ]
     },
     "execution_count": 397,
     "metadata": {},
     "output_type": "execute_result"
    }
   ],
   "source": [
    "x1.shape"
   ]
  },
  {
   "cell_type": "code",
   "execution_count": 398,
   "metadata": {},
   "outputs": [],
   "source": [
    "Y=example_pairs[\"class\"].values"
   ]
  },
  {
   "cell_type": "code",
   "execution_count": 399,
   "metadata": {},
   "outputs": [
    {
     "data": {
      "text/plain": [
       "(548744,)"
      ]
     },
     "execution_count": 399,
     "metadata": {},
     "output_type": "execute_result"
    }
   ],
   "source": [
    "Y.shape"
   ]
  },
  {
   "cell_type": "markdown",
   "metadata": {},
   "source": [
    "## RF"
   ]
  },
  {
   "cell_type": "code",
   "execution_count": 400,
   "metadata": {},
   "outputs": [],
   "source": [
    "X=np.column_stack((x1,x2))"
   ]
  },
  {
   "cell_type": "code",
   "execution_count": 401,
   "metadata": {},
   "outputs": [],
   "source": [
    "X=np.array([np.array(list(record)).flatten() for record in X])"
   ]
  },
  {
   "cell_type": "code",
   "execution_count": 402,
   "metadata": {},
   "outputs": [],
   "source": [
    "X_train, X_test, Y_train, Y_test = train_test_split(X, Y, test_size = 0.25, random_state = 42)"
   ]
  },
  {
   "cell_type": "code",
   "execution_count": 403,
   "metadata": {},
   "outputs": [
    {
     "name": "stdout",
     "output_type": "stream",
     "text": [
      "Training Features Shape: (411558, 8)\n",
      "Training Labels Shape: (411558,)\n",
      "Testing Features Shape: (137186, 8)\n",
      "Testing Labels Shape: (137186,)\n"
     ]
    }
   ],
   "source": [
    "print('Training Features Shape:', X_train.shape)\n",
    "print('Training Labels Shape:', Y_train.shape)\n",
    "print('Testing Features Shape:', X_test.shape)\n",
    "print('Testing Labels Shape:', Y_test.shape)"
   ]
  },
  {
   "cell_type": "code",
   "execution_count": 342,
   "metadata": {},
   "outputs": [
    {
     "data": {
      "text/plain": [
       "RandomForestClassifier(bootstrap=True, class_weight=None, criterion='gini',\n",
       "            max_depth=4, max_features='auto', max_leaf_nodes=None,\n",
       "            min_impurity_decrease=0.0, min_impurity_split=None,\n",
       "            min_samples_leaf=1, min_samples_split=2,\n",
       "            min_weight_fraction_leaf=0.0, n_estimators=1000, n_jobs=1,\n",
       "            oob_score=False, random_state=42, verbose=0, warm_start=False)"
      ]
     },
     "execution_count": 342,
     "metadata": {},
     "output_type": "execute_result"
    }
   ],
   "source": [
    "rf = RandomForestClassifier(n_estimators = 1000,max_depth=4,random_state = 42)\n",
    "rf.fit(X_train, Y_train)"
   ]
  },
  {
   "cell_type": "code",
   "execution_count": 343,
   "metadata": {},
   "outputs": [],
   "source": [
    "Y_pred = rf.predict(X_test)"
   ]
  },
  {
   "cell_type": "code",
   "execution_count": 344,
   "metadata": {},
   "outputs": [
    {
     "name": "stdout",
     "output_type": "stream",
     "text": [
      "0.6395050023702004\n",
      "class\tprecision\trecall\tF1-score\tsupport\n",
      "0,0.6425281199785753,0.802157631954351,0.7135238019707754,22432\n",
      "1,0.6324942033786022,0.43277239503654596,0.5139108494533221,17649\n",
      "\n"
     ]
    }
   ],
   "source": [
    "print(accuracy_score(Y_test, Y_pred))\n",
    "\n",
    "# # Creating the Confusion Matrix\n",
    "# from sklearn.metrics import confusion_matrix\n",
    "# cm = confusion_matrix(prediction, Y_test)\n",
    "# print(cm)\n",
    "\n",
    "precision,recall,f1_score,support=precision_recall_fscore_support(Y_test, Y_pred)\n",
    "scores=\"class\\tprecision\\trecall\\tF1-score\\tsupport\\n\"\n",
    "for j in [0,1]:\n",
    "    scores+=\"%s,%s,%s,%s,%s\\n\" % (str(j),str(precision[j]),str(recall[j]),str(f1_score[j]),str(support[j]))\n",
    "print(scores)"
   ]
  },
  {
   "cell_type": "markdown",
   "metadata": {},
   "source": [
    "## LSTM"
   ]
  },
  {
   "cell_type": "code",
   "execution_count": 345,
   "metadata": {},
   "outputs": [],
   "source": [
    "XL=np.column_stack((x1,x2))"
   ]
  },
  {
   "cell_type": "code",
   "execution_count": 346,
   "metadata": {},
   "outputs": [],
   "source": [
    "XLM=np.array([np.array([record[0],record[1]]).T for record in XL])"
   ]
  },
  {
   "cell_type": "code",
   "execution_count": 347,
   "metadata": {},
   "outputs": [],
   "source": [
    "##YL=to_categorical(Y,num_classes=2)\n",
    "\n",
    "n_samples=XLM.shape[0]\n",
    "n_timesteps=1\n",
    "##n_features=2\n",
    "YLM = Y.reshape(n_samples, n_timesteps)"
   ]
  },
  {
   "cell_type": "code",
   "execution_count": 348,
   "metadata": {},
   "outputs": [
    {
     "data": {
      "text/plain": [
       "((160324, 4, 2), (160324, 1))"
      ]
     },
     "execution_count": 348,
     "metadata": {},
     "output_type": "execute_result"
    }
   ],
   "source": [
    "XLM.shape,YLM.shape"
   ]
  },
  {
   "cell_type": "code",
   "execution_count": 349,
   "metadata": {},
   "outputs": [],
   "source": [
    "XLM_train, XLM_test, YLM_train, YLM_test = train_test_split(XLM, YLM, test_size = 0.25, random_state = 42)"
   ]
  },
  {
   "cell_type": "code",
   "execution_count": 350,
   "metadata": {},
   "outputs": [
    {
     "name": "stdout",
     "output_type": "stream",
     "text": [
      "Training Features Shape: (120243, 4, 2)\n",
      "Training Labels Shape: (120243, 1)\n",
      "Testing Features Shape: (40081, 4, 2)\n",
      "Testing Labels Shape: (40081, 1)\n"
     ]
    }
   ],
   "source": [
    "print('Training Features Shape:', XLM_train.shape)\n",
    "print('Training Labels Shape:', YLM_train.shape)\n",
    "print('Testing Features Shape:', XLM_test.shape)\n",
    "print('Testing Labels Shape:', YLM_test.shape)"
   ]
  },
  {
   "cell_type": "code",
   "execution_count": 370,
   "metadata": {},
   "outputs": [],
   "source": [
    "model = Sequential()\n",
    "\n",
    "# # define CNN model\n",
    "# model.add(TimeDistributed(Conv2D(1, (2,2), activation='relu', padding='same',input_shape=(None,4,2))))\n",
    "# model.add(TimeDistributed(MaxPooling2D(pool_size=(2, 2))))\n",
    "# model.add(TimeDistributed(Flatten()))\n",
    "\n",
    "model.add(LSTM(8))\n",
    "model.add(Dense(1, activation='sigmoid'))\n",
    "opt=Adam(lr=0.1)\n",
    "model.compile(loss='binary_crossentropy', optimizer=opt, metrics=['accuracy'])"
   ]
  },
  {
   "cell_type": "code",
   "execution_count": 371,
   "metadata": {},
   "outputs": [
    {
     "name": "stdout",
     "output_type": "stream",
     "text": [
      "Train on 120243 samples, validate on 40081 samples\n",
      "Epoch 1/4\n",
      "120243/120243 [==============================] - 80s 667us/step - loss: 0.6468 - acc: 0.6345 - val_loss: 0.6527 - val_acc: 0.6277\n",
      "Epoch 2/4\n",
      "120243/120243 [==============================] - 79s 654us/step - loss: 0.6435 - acc: 0.6403 - val_loss: 0.6393 - val_acc: 0.6438\n",
      "Epoch 3/4\n",
      "120243/120243 [==============================] - 79s 654us/step - loss: 0.6433 - acc: 0.6409 - val_loss: 0.6584 - val_acc: 0.6359\n",
      "Epoch 4/4\n",
      "120243/120243 [==============================] - 80s 668us/step - loss: 0.6456 - acc: 0.6373 - val_loss: 0.6545 - val_acc: 0.6232\n"
     ]
    },
    {
     "data": {
      "text/plain": [
       "<keras.callbacks.History at 0x7fc069810f60>"
      ]
     },
     "execution_count": 371,
     "metadata": {},
     "output_type": "execute_result"
    }
   ],
   "source": [
    "model.fit(XLM_train, YLM_train, validation_data=(XLM_test, YLM_test), epochs=4, batch_size=16,verbose=1)"
   ]
  },
  {
   "cell_type": "code",
   "execution_count": 353,
   "metadata": {},
   "outputs": [
    {
     "name": "stdout",
     "output_type": "stream",
     "text": [
      "_________________________________________________________________\n",
      "Layer (type)                 Output Shape              Param #   \n",
      "=================================================================\n",
      "lstm_13 (LSTM)               (None, 8)                 352       \n",
      "_________________________________________________________________\n",
      "dense_13 (Dense)             (None, 1)                 9         \n",
      "=================================================================\n",
      "Total params: 361\n",
      "Trainable params: 361\n",
      "Non-trainable params: 0\n",
      "_________________________________________________________________\n",
      "None\n"
     ]
    }
   ],
   "source": [
    "print(model.summary())"
   ]
  },
  {
   "cell_type": "code",
   "execution_count": null,
   "metadata": {},
   "outputs": [],
   "source": []
  }
 ],
 "metadata": {
  "kernelspec": {
   "display_name": "Python 3",
   "language": "python",
   "name": "python3"
  },
  "language_info": {
   "codemirror_mode": {
    "name": "ipython",
    "version": 3
   },
   "file_extension": ".py",
   "mimetype": "text/x-python",
   "name": "python",
   "nbconvert_exporter": "python",
   "pygments_lexer": "ipython3",
   "version": "3.6.5"
  }
 },
 "nbformat": 4,
 "nbformat_minor": 2
}
